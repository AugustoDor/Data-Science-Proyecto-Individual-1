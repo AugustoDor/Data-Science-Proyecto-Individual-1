{
 "cells": [
  {
   "cell_type": "markdown",
   "metadata": {},
   "source": [
    "Importamos las librerias necesarias"
   ]
  },
  {
   "cell_type": "code",
   "execution_count": 1,
   "metadata": {
    "metadata": {}
   },
   "outputs": [],
   "source": [
    "import pandas as pd\n",
    "import os"
   ]
  },
  {
   "cell_type": "markdown",
   "metadata": {},
   "source": [
    "Obtenemos la ruta de la carpeta en la que estamos trabajando\n",
    "\n",
    "Nos servira para abrir los archivos y luego guardarlos"
   ]
  },
  {
   "cell_type": "code",
   "execution_count": 2,
   "metadata": {
    "metadata": {}
   },
   "outputs": [],
   "source": [
    "# Construir la ruta completa al archivo\n",
    "ruta_games = r'C:\\PROYECTO-INDIVIDUAL\\Data\\json\\sucio\\output_steam_games.json'\n",
    "\n",
    "# Abrimos el archivo y cargamos todas las lineas del mismo en \"lineas\"\n",
    "with open(ruta_games, 'r', encoding='utf-8') as archivo:\n",
    "    lineas = archivo.readlines()\n",
    "\n",
    "# Leemos cada linea dentro de lineas, y realizamos la correcciones pertinentes\n",
    "texto = []\n",
    "for linea in lineas:\n",
    "    texto_de_linea = linea.replace('\"', '').replace('publisher: ',  '\"publisher\": \"').replace(', genres: ',  '\", \"genres\": \"').replace(', app_name:',  '\", \"app_name\": \"').replace(', title:',  '\", \"title\": \"').replace(', url:',  '\", \"url\": \"').replace(', release_date:',  '\", \"release_date\": \"').replace(', tags:',  '\", \"tags\": \"').replace(', reviews_url:',  '\", \"reviews_url\": \"').replace(', specs:',  '\", \"specs\": \"').replace(', price:',  '\", \"price\": \"').replace(', early_access:',  '\", \"early_access\": \"').replace(', id:',  '\", \"id\": \"').replace(', developer:',  '\", \"developer\": \"').replace('NaN', 'None').replace('}', '\"}').replace(\"\\\\\", \"\").replace('\"}{atch', 'atch').replace(\";\", \",\")\n",
    "    texto.append(texto_de_linea)\n",
    "\n",
    "# Abrimos el archivo en formato escritura, cargamos todo el texto, y guardamos en una nueva ruta\n",
    "ruta_nueva_games = r'C:\\PROYECTO-INDIVIDUAL\\Data\\json\\limpio\\games.json'\n",
    "archivo = open(ruta_nueva_games, \"w\", encoding='utf-8')\n",
    "archivo.write('[' + '\\n')\n",
    "for i in range(len(texto)-1):\n",
    "    archivo.write(texto[i] + ',')\n",
    "archivo.write(texto[len(texto)-1])\n",
    "archivo.write(']' + '\\n')\n",
    "archivo.close()"
   ]
  },
  {
   "cell_type": "markdown",
   "metadata": {},
   "source": [
    "CREAMOS UN DATAFRAME CON ESE ARCHIVO"
   ]
  },
  {
   "cell_type": "code",
   "execution_count": 3,
   "metadata": {
    "metadata": {}
   },
   "outputs": [],
   "source": [
    "df_games = pd.read_json(ruta_nueva_games, encoding='utf-8')"
   ]
  },
  {
   "cell_type": "markdown",
   "metadata": {},
   "source": [
    "REALIZAMOS UNA VISUALIZACION DE LOS DATOS, FILAS Y COLUMNAS\n",
    "\n",
    "Con el fin de saber que columnas nos pueden servir de acuerdo a las actividades a realizar"
   ]
  },
  {
   "cell_type": "code",
   "execution_count": 4,
   "metadata": {
    "metadata": {}
   },
   "outputs": [
    {
     "name": "stdout",
     "output_type": "stream",
     "text": [
      "(120445, 13)\n",
      "Index(['publisher', 'genres', 'app_name', 'title', 'url', 'release_date',\n",
      "       'tags', 'reviews_url', 'specs', 'price', 'early_access', 'id',\n",
      "       'developer'],\n",
      "      dtype='object')\n"
     ]
    }
   ],
   "source": [
    "print(df_games.shape)\n",
    "print(df_games.columns)"
   ]
  },
  {
   "cell_type": "markdown",
   "metadata": {},
   "source": [
    "AHORA ELIMINAREMOS COLUMNAS, VALORES NA, Y MODIFICAREMOS DATOS"
   ]
  },
  {
   "cell_type": "code",
   "execution_count": 5,
   "metadata": {
    "metadata": {}
   },
   "outputs": [],
   "source": [
    "# Eliminamos las columnas innecesarias\n",
    "df_games.drop(columns=['url', 'reviews_url', 'specs', 'early_access', 'publisher', 'app_name'], inplace=True)\n",
    "\n",
    "# Cambiar los valores de string 'None' por None\n",
    "nuevos_valores = {'None': None, 'None ': None, ' None': None}\n",
    "df_games['developer'] = df_games['developer'].replace(nuevos_valores)\n",
    "# Eliminamos los valores NA\n",
    "df_games.dropna(inplace=True)\n",
    "\n",
    "# Ahora tenemos que separar los generos y crear variables dummy para mas facilidad a la hora de el manejo del archivo\n",
    "# Función para convertir el string '[elemento1, elemento2, ..., elementon]' en lista\n",
    "def convertir_a_lista(string_lista):\n",
    "    # Eliminar corchetes y espacios\n",
    "    string_lista = string_lista.replace(\"[\", \"\").replace(\"]\", \"\").replace(\" \", \"\")\n",
    "    # Dividir por coma y convertir a lista\n",
    "    return string_lista.split(\",\")\n",
    "\n",
    "# Aplicar la función a la columna 'genres'\n",
    "df_games['genres'] = df_games['genres'].apply(convertir_a_lista)\n",
    "# Separar la columna 'genres'\n",
    "df_games.explode(column='genres')\n",
    "# Convertir la lista de géneros en una cadena separada por comas\n",
    "df_games['Generos_str'] = df_games['genres'].apply(lambda x: ', '.join(x))\n",
    "df_games['genres'] = df_games['genres'].apply(lambda x: ', '.join(x))\n",
    "# Obtener las variables dummy con el nombre de los géneros\n",
    "df_dummies = df_games['Generos_str'].str.get_dummies(sep=', ')\n",
    "# Unir las variables dummy con el DataFrame original\n",
    "df_games = pd.concat([df_games, df_dummies], axis=1)\n",
    "# Eliminar columnas temporales\n",
    "df_games.drop(['Generos_str'], axis=1, inplace=True)\n",
    "\n",
    "# Reemplazar NaN con 0 en la columna 'price'\n",
    "df_games['price'] = df_games['price'].fillna(0)\n",
    "# Reemplazar valores que contienen ciertos strings que complican el analisis con 0 en la columna 'price'\n",
    "df_games.loc[df_games['price'].astype(str).str.contains('Free'), 'price'] = 0\n",
    "df_games.loc[df_games['price'].astype(str).str.contains('Install'), 'price'] = 0\n",
    "df_games.loc[df_games['price'].astype(str).str.contains('Demo'), 'price'] = 0\n",
    "df_games.loc[df_games['price'].astype(str).str.contains('Third-party'), 'price'] = 0\n",
    "df_games.loc[df_games['price'].astype(str).str.contains('Play'), 'price'] = 0\n",
    "df_games.loc[df_games['price'].astype(str).str.contains('None'), 'price'] = 0\n",
    "# Convertir la columna 'price' a tipo float\n",
    "df_games['price'] = df_games['price'].astype(float)\n",
    "\n",
    "# Convertir la columna 'release_date' a tipo date\n",
    "df_games['fecha'] = pd.to_datetime(df_games['release_date'], errors='coerce')\n",
    "# Filtrar las filas que tienen NaT en la columna 'fecha' (valores no válidos)\n",
    "df_games = df_games.dropna(subset=['fecha'])\n",
    "# Eliminar la columna original\n",
    "df_games.drop(columns='release_date', inplace=True)\n",
    "# Crear las nuevas columnas 'anio', 'mes' y 'dia' utilizando dt.year, dt.month y dt.day\n",
    "df_games['anio'] = df_games['fecha'].dt.year\n",
    "df_games['mes'] = df_games['fecha'].dt.month\n",
    "df_games['dia'] = df_games['fecha'].dt.day\n",
    "# Eliminar la columna fecha original\n",
    "df_games.drop(columns='fecha', inplace=True)\n",
    "\n",
    "# Transformar la columna 'developer' en minusculas y sin espacios en los bordes\n",
    "df_games['developer'] = df_games['developer'].str.strip().str.lower()\n",
    "\n",
    "# Eliminar el espacio en los bordes de la columna 'id'\n",
    "df_games['id'] = df_games['id'].str.strip()\n",
    "# Cambiar los 'None' por None en la columna id\n",
    "df_games.loc[df_games['id'].astype(str).str.contains('None'), 'id'] = None\n",
    "# Dropear los NA\n",
    "df_games.dropna(subset=['id'], inplace=True)\n",
    "# Transformar a entero la columna\n",
    "df_games['id'] = df_games['id'].astype(int)\n",
    "\n",
    "# Aplicar la función a la columna 'genres'\n",
    "df_games['tags'] = df_games['tags'].apply(convertir_a_lista)\n",
    "df_games['tags'] = df_games['tags'].apply(lambda x: ', '.join(x))"
   ]
  },
  {
   "cell_type": "markdown",
   "metadata": {},
   "source": [
    "Vemos como quedo"
   ]
  },
  {
   "cell_type": "code",
   "execution_count": 6,
   "metadata": {
    "metadata": {}
   },
   "outputs": [
    {
     "data": {
      "text/html": [
       "<div>\n",
       "<style scoped>\n",
       "    .dataframe tbody tr th:only-of-type {\n",
       "        vertical-align: middle;\n",
       "    }\n",
       "\n",
       "    .dataframe tbody tr th {\n",
       "        vertical-align: top;\n",
       "    }\n",
       "\n",
       "    .dataframe thead th {\n",
       "        text-align: right;\n",
       "    }\n",
       "</style>\n",
       "<table border=\"1\" class=\"dataframe\">\n",
       "  <thead>\n",
       "    <tr style=\"text-align: right;\">\n",
       "      <th></th>\n",
       "      <th>genres</th>\n",
       "      <th>title</th>\n",
       "      <th>tags</th>\n",
       "      <th>price</th>\n",
       "      <th>id</th>\n",
       "      <th>developer</th>\n",
       "      <th>Accounting</th>\n",
       "      <th>Action</th>\n",
       "      <th>Adventure</th>\n",
       "      <th>Animation&amp;amp</th>\n",
       "      <th>...</th>\n",
       "      <th>Simulation</th>\n",
       "      <th>SoftwareTraining</th>\n",
       "      <th>Sports</th>\n",
       "      <th>Strategy</th>\n",
       "      <th>Utilities</th>\n",
       "      <th>VideoProduction</th>\n",
       "      <th>WebPublishing</th>\n",
       "      <th>anio</th>\n",
       "      <th>mes</th>\n",
       "      <th>dia</th>\n",
       "    </tr>\n",
       "  </thead>\n",
       "  <tbody>\n",
       "    <tr>\n",
       "      <th>88310</th>\n",
       "      <td>Action, Casual, Indie, Simulation, Strategy</td>\n",
       "      <td>Lost Summoner Kitty</td>\n",
       "      <td>Strategy, Action, Indie, Casual, Simulation</td>\n",
       "      <td>4.99</td>\n",
       "      <td>761140</td>\n",
       "      <td>kotoshiro</td>\n",
       "      <td>0</td>\n",
       "      <td>1</td>\n",
       "      <td>0</td>\n",
       "      <td>0</td>\n",
       "      <td>...</td>\n",
       "      <td>1</td>\n",
       "      <td>0</td>\n",
       "      <td>0</td>\n",
       "      <td>1</td>\n",
       "      <td>0</td>\n",
       "      <td>0</td>\n",
       "      <td>0</td>\n",
       "      <td>2018</td>\n",
       "      <td>1</td>\n",
       "      <td>4</td>\n",
       "    </tr>\n",
       "    <tr>\n",
       "      <th>88311</th>\n",
       "      <td>FreetoPlay, Indie, RPG, Strategy</td>\n",
       "      <td>Ironbound</td>\n",
       "      <td>FreetoPlay, Strategy, Indie, RPG, CardGame, Tr...</td>\n",
       "      <td>0.00</td>\n",
       "      <td>643980</td>\n",
       "      <td>secret level srl</td>\n",
       "      <td>0</td>\n",
       "      <td>0</td>\n",
       "      <td>0</td>\n",
       "      <td>0</td>\n",
       "      <td>...</td>\n",
       "      <td>0</td>\n",
       "      <td>0</td>\n",
       "      <td>0</td>\n",
       "      <td>1</td>\n",
       "      <td>0</td>\n",
       "      <td>0</td>\n",
       "      <td>0</td>\n",
       "      <td>2018</td>\n",
       "      <td>1</td>\n",
       "      <td>4</td>\n",
       "    </tr>\n",
       "    <tr>\n",
       "      <th>88312</th>\n",
       "      <td>Casual, FreetoPlay, Indie, Simulation, Sports</td>\n",
       "      <td>Real Pool 3D - Poolians</td>\n",
       "      <td>FreetoPlay, Simulation, Sports, Casual, Indie,...</td>\n",
       "      <td>0.00</td>\n",
       "      <td>670290</td>\n",
       "      <td>poolians.com</td>\n",
       "      <td>0</td>\n",
       "      <td>0</td>\n",
       "      <td>0</td>\n",
       "      <td>0</td>\n",
       "      <td>...</td>\n",
       "      <td>1</td>\n",
       "      <td>0</td>\n",
       "      <td>1</td>\n",
       "      <td>0</td>\n",
       "      <td>0</td>\n",
       "      <td>0</td>\n",
       "      <td>0</td>\n",
       "      <td>2017</td>\n",
       "      <td>7</td>\n",
       "      <td>24</td>\n",
       "    </tr>\n",
       "    <tr>\n",
       "      <th>88313</th>\n",
       "      <td>Action, Adventure, Casual</td>\n",
       "      <td>u5f39u70b8u4eba2222</td>\n",
       "      <td>Action, Adventure, Casual</td>\n",
       "      <td>0.99</td>\n",
       "      <td>767400</td>\n",
       "      <td>u5f7cu5cb8u9886u57df</td>\n",
       "      <td>0</td>\n",
       "      <td>1</td>\n",
       "      <td>1</td>\n",
       "      <td>0</td>\n",
       "      <td>...</td>\n",
       "      <td>0</td>\n",
       "      <td>0</td>\n",
       "      <td>0</td>\n",
       "      <td>0</td>\n",
       "      <td>0</td>\n",
       "      <td>0</td>\n",
       "      <td>0</td>\n",
       "      <td>2017</td>\n",
       "      <td>12</td>\n",
       "      <td>7</td>\n",
       "    </tr>\n",
       "    <tr>\n",
       "      <th>88315</th>\n",
       "      <td>Action, Adventure, Simulation</td>\n",
       "      <td>Battle Royale Trainer</td>\n",
       "      <td>Action, Adventure, Simulation, FPS, Shooter, T...</td>\n",
       "      <td>3.99</td>\n",
       "      <td>772540</td>\n",
       "      <td>trickjump games ltd</td>\n",
       "      <td>0</td>\n",
       "      <td>1</td>\n",
       "      <td>1</td>\n",
       "      <td>0</td>\n",
       "      <td>...</td>\n",
       "      <td>1</td>\n",
       "      <td>0</td>\n",
       "      <td>0</td>\n",
       "      <td>0</td>\n",
       "      <td>0</td>\n",
       "      <td>0</td>\n",
       "      <td>0</td>\n",
       "      <td>2018</td>\n",
       "      <td>1</td>\n",
       "      <td>4</td>\n",
       "    </tr>\n",
       "  </tbody>\n",
       "</table>\n",
       "<p>5 rows × 34 columns</p>\n",
       "</div>"
      ],
      "text/plain": [
       "                                              genres  \\\n",
       "88310    Action, Casual, Indie, Simulation, Strategy   \n",
       "88311               FreetoPlay, Indie, RPG, Strategy   \n",
       "88312  Casual, FreetoPlay, Indie, Simulation, Sports   \n",
       "88313                      Action, Adventure, Casual   \n",
       "88315                  Action, Adventure, Simulation   \n",
       "\n",
       "                          title  \\\n",
       "88310       Lost Summoner Kitty   \n",
       "88311                 Ironbound   \n",
       "88312   Real Pool 3D - Poolians   \n",
       "88313       u5f39u70b8u4eba2222   \n",
       "88315     Battle Royale Trainer   \n",
       "\n",
       "                                                    tags  price      id  \\\n",
       "88310        Strategy, Action, Indie, Casual, Simulation   4.99  761140   \n",
       "88311  FreetoPlay, Strategy, Indie, RPG, CardGame, Tr...   0.00  643980   \n",
       "88312  FreetoPlay, Simulation, Sports, Casual, Indie,...   0.00  670290   \n",
       "88313                          Action, Adventure, Casual   0.99  767400   \n",
       "88315  Action, Adventure, Simulation, FPS, Shooter, T...   3.99  772540   \n",
       "\n",
       "                  developer  Accounting  Action  Adventure  Animation&amp  \\\n",
       "88310             kotoshiro           0       1          0              0   \n",
       "88311      secret level srl           0       0          0              0   \n",
       "88312          poolians.com           0       0          0              0   \n",
       "88313  u5f7cu5cb8u9886u57df           0       1          1              0   \n",
       "88315   trickjump games ltd           0       1          1              0   \n",
       "\n",
       "       ...  Simulation  SoftwareTraining  Sports  Strategy  Utilities  \\\n",
       "88310  ...           1                 0       0         1          0   \n",
       "88311  ...           0                 0       0         1          0   \n",
       "88312  ...           1                 0       1         0          0   \n",
       "88313  ...           0                 0       0         0          0   \n",
       "88315  ...           1                 0       0         0          0   \n",
       "\n",
       "       VideoProduction  WebPublishing  anio  mes  dia  \n",
       "88310                0              0  2018    1    4  \n",
       "88311                0              0  2018    1    4  \n",
       "88312                0              0  2017    7   24  \n",
       "88313                0              0  2017   12    7  \n",
       "88315                0              0  2018    1    4  \n",
       "\n",
       "[5 rows x 34 columns]"
      ]
     },
     "execution_count": 6,
     "metadata": {},
     "output_type": "execute_result"
    }
   ],
   "source": [
    "df_games.head()"
   ]
  },
  {
   "cell_type": "markdown",
   "metadata": {},
   "source": [
    "GUARDAMOS LOS DATAFRAMES\n",
    "\n",
    "Para ello creamos una carpeta llamada parquet dentro de datos, y guardamos los archivos dentro de ella"
   ]
  },
  {
   "cell_type": "code",
   "execution_count": 7,
   "metadata": {
    "metadata": {}
   },
   "outputs": [],
   "source": [
    "ruta_de_guardado = r'C:\\PROYECTO-INDIVIDUAL\\Data\\parquet\\games.parquet'\n",
    "df_games.to_parquet(ruta_de_guardado, index=False)"
   ]
  }
 ],
 "metadata": {
  "kernelspec": {
   "display_name": "TPI",
   "language": "python",
   "name": "python3"
  },
  "language_info": {
   "codemirror_mode": {
    "name": "ipython",
    "version": 3
   },
   "file_extension": ".py",
   "mimetype": "text/x-python",
   "name": "python",
   "nbconvert_exporter": "python",
   "pygments_lexer": "ipython3",
   "version": "3.10.0"
  }
 },
 "nbformat": 4,
 "nbformat_minor": 2
}
