{
 "cells": [
  {
   "cell_type": "markdown",
   "metadata": {},
   "source": [
    "Importamos las librerias necesarias"
   ]
  },
  {
   "cell_type": "code",
   "execution_count": 1,
   "metadata": {
    "metadata": {}
   },
   "outputs": [],
   "source": [
    "import pandas as pd\n",
    "import os"
   ]
  },
  {
   "cell_type": "markdown",
   "metadata": {},
   "source": [
    "Obtenemos la ruta de la carpeta en la que estamos trabajando\n",
    "\n",
    "Nos servira para abrir los archivos y luego guardarlos"
   ]
  },
  {
   "cell_type": "code",
   "execution_count": 2,
   "metadata": {
    "metadata": {}
   },
   "outputs": [],
   "source": [
    "# Construir la ruta completa al archivo\n",
    "ruta_review = r'C:\\PROYECTO-INDIVIDUAL\\Data\\json\\sucio\\australian_user_reviews.json'\n",
    "\n",
    "# Abrimos el archivo y cargamos todas las lineas del mismo en \"lineas\"\n",
    "with open(ruta_review, 'r', encoding='utf-8') as archivo:\n",
    "    lineas = archivo.readlines()\n",
    "\n",
    "#leemos cada linea dentro de lineas, y realizamos la correcciones pertinentes\n",
    "texto = []\n",
    "for linea in lineas:\n",
    "    texto_de_linea = linea.replace(\"'\", '\"').replace('\"', '').replace('user_id: ',  '\"user_id\": \"').replace(', user_url: ',  '\", \"user_url\": \"').replace(', reviews:',  '\", \"reviews\":').replace('funny:',  '\"funny\": \"').replace(', posted:',  '\", \"posted\": \"').replace(', last_edited:',  '\", \"last_edited\": \"').replace(', item_id:',  '\", \"item_id\": \"').replace(', helpful:',  '\", \"helpful\": \"').replace(', recommend:',  '\", \"recommend\": \"').replace(', review:',  '\", \"review\": \"').replace('},', '\"},').replace('}]', '\"}]').replace(\"\\\\\", \"\")\n",
    "    texto.append(texto_de_linea)\n",
    "\n",
    "# Abrimos el archivo en formato escritura, cargamos todo el texto, y guardamos en una nueva ruta\n",
    "ruta_nueva_reviews = r'C:\\PROYECTO-INDIVIDUAL\\Data\\json\\limpio\\reviews.json'\n",
    "archivo = open(ruta_nueva_reviews, \"w\", encoding='utf-8')\n",
    "archivo.write('[' + '\\n')\n",
    "for i in range(len(texto)-1):\n",
    "    archivo.write(texto[i] + ',')\n",
    "archivo.write(texto[len(texto)-1])\n",
    "archivo.write(']' + '\\n')\n",
    "archivo.close()"
   ]
  },
  {
   "cell_type": "markdown",
   "metadata": {},
   "source": [
    "CREAMOS UN DATAFRAME CON ESE ARCHIVO"
   ]
  },
  {
   "cell_type": "code",
   "execution_count": 3,
   "metadata": {
    "metadata": {}
   },
   "outputs": [],
   "source": [
    "df_reviews = pd.read_json(ruta_nueva_reviews, encoding='utf-8')"
   ]
  },
  {
   "cell_type": "markdown",
   "metadata": {},
   "source": [
    "REALIZAMOS UNA VISUALIZACION DE LOS DATOS, FILAS Y COLUMNAS\n",
    "\n",
    "Con el fin de saber que columnas nos pueden servir de acuerdo a las actividades a realizar"
   ]
  },
  {
   "cell_type": "code",
   "execution_count": 4,
   "metadata": {
    "metadata": {}
   },
   "outputs": [
    {
     "name": "stdout",
     "output_type": "stream",
     "text": [
      "(25799, 3)\n",
      "Index(['user_id', 'user_url', 'reviews'], dtype='object')\n"
     ]
    }
   ],
   "source": [
    "print(df_reviews.shape)\n",
    "print(df_reviews.columns)"
   ]
  },
  {
   "cell_type": "markdown",
   "metadata": {},
   "source": [
    "AHORA ELIMINAREMOS COLUMNAS, VALORES NA, Y MODIFICAREMOS DATOS"
   ]
  },
  {
   "cell_type": "code",
   "execution_count": 5,
   "metadata": {
    "metadata": {}
   },
   "outputs": [],
   "source": [
    "# Separar la columna reviews\n",
    "df_reviews = df_reviews.explode(column='reviews')\n",
    "\n",
    "# Creamos listas donde se guardara todos los datos de lo que sera el nuevo df\n",
    "lista_item_id = []\n",
    "lista_helpful = []\n",
    "lista_recommend = []\n",
    "lista_review = []\n",
    "for x in range(len(df_reviews['reviews'])):\n",
    "    review = df_reviews['reviews'].iloc[x]\n",
    "    if pd.notna(review):\n",
    "        diccionario = dict(review)\n",
    "        if 'helpful' in diccionario:\n",
    "            lista_helpful.append(diccionario['helpful'])\n",
    "        else:\n",
    "            lista_helpful.append('None')\n",
    "        if 'item_id' in diccionario:\n",
    "            lista_item_id.append(diccionario['item_id'])\n",
    "        else:\n",
    "            lista_item_id.append('None')\n",
    "        if 'recommend' in diccionario:\n",
    "            lista_recommend.append(diccionario['recommend'])\n",
    "        else:\n",
    "            lista_recommend.append('None')\n",
    "        if 'review' in diccionario:\n",
    "            lista_review.append(diccionario['review'])\n",
    "        else:\n",
    "            lista_review.append('None')\n",
    "    else:\n",
    "        lista_helpful.append('None')\n",
    "        lista_item_id.append('None')\n",
    "        lista_recommend.append('None')\n",
    "        lista_review.append('None')\n",
    "\n",
    "\n",
    "# Creamos las nuevas columnas con las listas hechas anteriormente\n",
    "df_reviews['item_id'] = lista_item_id\n",
    "df_reviews['helpful'] = lista_helpful\n",
    "df_reviews['recommend'] = lista_recommend\n",
    "df_reviews['review'] = lista_review\n",
    "\n",
    "# Dropeamos las columnas que no necesitamos\n",
    "df_reviews.drop(columns='reviews', inplace=True)\n",
    "df_reviews.drop(columns='user_url', inplace=True)\n",
    "df_reviews.drop(columns='helpful', inplace=True)\n",
    "\n",
    "# Creamos una lista con las recomendaciones del df, 2 = Bueno, 1 = Neutral 0 = Malo\n",
    "columna_recomendacion = []\n",
    "for recomendacion, review in zip(df_reviews['recommend'], df_reviews['review']):\n",
    "    if recomendacion.strip() == 'True':\n",
    "        columna_recomendacion.append(2)\n",
    "    elif recomendacion.strip() == 'False':\n",
    "        columna_recomendacion.append(0)\n",
    "    elif review.strip() == '' or review.strip() == 'None':\n",
    "        columna_recomendacion.append(1)\n",
    "    elif recomendacion.strip() == 'None' or recomendacion.strip() == '':\n",
    "        columna_recomendacion.append(1)\n",
    "    else:\n",
    "        columna_recomendacion.append(1)\n",
    "\n",
    "# Reemplzamos la columna de recomendacion por la lista que creamos\n",
    "df_reviews['recommend'] = columna_recomendacion\n",
    "df_reviews['recommend'] = columna_recomendacion\n",
    "\n",
    "df_reviews['user_id'] = df_reviews['user_id'].str.strip()\n",
    "df_reviews['item_id'] = df_reviews['item_id'].str.strip()\n",
    "df_reviews.loc[df_reviews['item_id'].astype(str).str.contains('None'), 'item_id'] = None\n",
    "df_reviews.dropna(subset=['item_id'], inplace=True)\n",
    "df_reviews['item_id'] = df_reviews['item_id'].astype(int)"
   ]
  },
  {
   "cell_type": "markdown",
   "metadata": {},
   "source": [
    "Vemos como quedo"
   ]
  },
  {
   "cell_type": "code",
   "execution_count": 6,
   "metadata": {
    "metadata": {}
   },
   "outputs": [
    {
     "data": {
      "text/html": [
       "<div>\n",
       "<style scoped>\n",
       "    .dataframe tbody tr th:only-of-type {\n",
       "        vertical-align: middle;\n",
       "    }\n",
       "\n",
       "    .dataframe tbody tr th {\n",
       "        vertical-align: top;\n",
       "    }\n",
       "\n",
       "    .dataframe thead th {\n",
       "        text-align: right;\n",
       "    }\n",
       "</style>\n",
       "<table border=\"1\" class=\"dataframe\">\n",
       "  <thead>\n",
       "    <tr style=\"text-align: right;\">\n",
       "      <th></th>\n",
       "      <th>user_id</th>\n",
       "      <th>item_id</th>\n",
       "      <th>recommend</th>\n",
       "      <th>review</th>\n",
       "    </tr>\n",
       "  </thead>\n",
       "  <tbody>\n",
       "    <tr>\n",
       "      <th>0</th>\n",
       "      <td>76561197970982479</td>\n",
       "      <td>1250</td>\n",
       "      <td>2</td>\n",
       "      <td>Simple yet with great replayability. In my op...</td>\n",
       "    </tr>\n",
       "    <tr>\n",
       "      <th>0</th>\n",
       "      <td>76561197970982479</td>\n",
       "      <td>22200</td>\n",
       "      <td>2</td>\n",
       "      <td>Its unique and worth a playthrough.</td>\n",
       "    </tr>\n",
       "    <tr>\n",
       "      <th>0</th>\n",
       "      <td>76561197970982479</td>\n",
       "      <td>43110</td>\n",
       "      <td>2</td>\n",
       "      <td>Great atmosphere. The gunplay can be a bit ch...</td>\n",
       "    </tr>\n",
       "    <tr>\n",
       "      <th>1</th>\n",
       "      <td>js41637</td>\n",
       "      <td>251610</td>\n",
       "      <td>2</td>\n",
       "      <td>I know what you think when you see this title...</td>\n",
       "    </tr>\n",
       "    <tr>\n",
       "      <th>1</th>\n",
       "      <td>js41637</td>\n",
       "      <td>227300</td>\n",
       "      <td>2</td>\n",
       "      <td>For a simple (its actually not all that simpl...</td>\n",
       "    </tr>\n",
       "  </tbody>\n",
       "</table>\n",
       "</div>"
      ],
      "text/plain": [
       "             user_id  item_id  recommend  \\\n",
       "0  76561197970982479     1250          2   \n",
       "0  76561197970982479    22200          2   \n",
       "0  76561197970982479    43110          2   \n",
       "1            js41637   251610          2   \n",
       "1            js41637   227300          2   \n",
       "\n",
       "                                              review  \n",
       "0   Simple yet with great replayability. In my op...  \n",
       "0                Its unique and worth a playthrough.  \n",
       "0   Great atmosphere. The gunplay can be a bit ch...  \n",
       "1   I know what you think when you see this title...  \n",
       "1   For a simple (its actually not all that simpl...  "
      ]
     },
     "execution_count": 6,
     "metadata": {},
     "output_type": "execute_result"
    }
   ],
   "source": [
    "df_reviews.head()"
   ]
  },
  {
   "cell_type": "markdown",
   "metadata": {},
   "source": [
    "GUARDAMOS LOS DATAFRAMES\n",
    "\n",
    "Para ello creamos una carpeta llamada parquet dentro de datos, y guardamos los archivos dentro de ella"
   ]
  },
  {
   "cell_type": "code",
   "execution_count": 7,
   "metadata": {
    "metadata": {}
   },
   "outputs": [],
   "source": [
    "ruta_de_guardado = r'C:\\PROYECTO-INDIVIDUAL\\Data\\parquet\\reviews.parquet'\n",
    "df_reviews.to_parquet(ruta_de_guardado, index=False)"
   ]
  }
 ],
 "metadata": {
  "kernelspec": {
   "display_name": "TPI",
   "language": "python",
   "name": "python3"
  },
  "language_info": {
   "codemirror_mode": {
    "name": "ipython",
    "version": 3
   },
   "file_extension": ".py",
   "mimetype": "text/x-python",
   "name": "python",
   "nbconvert_exporter": "python",
   "pygments_lexer": "ipython3",
   "version": "3.10.0"
  }
 },
 "nbformat": 4,
 "nbformat_minor": 2
}
