{
 "cells": [
  {
   "cell_type": "markdown",
   "metadata": {},
   "source": [
    "Importamos las librerias necesarias"
   ]
  },
  {
   "cell_type": "code",
   "execution_count": 1,
   "metadata": {
    "metadata": {}
   },
   "outputs": [],
   "source": [
    "import pandas as pd\n",
    "import os"
   ]
  },
  {
   "cell_type": "markdown",
   "metadata": {},
   "source": [
    "Obtenemos la ruta de la carpeta en la que estamos trabajando\n",
    "\n",
    "Nos servira para abrir los archivos y luego guardarlos"
   ]
  },
  {
   "cell_type": "code",
   "execution_count": 2,
   "metadata": {
    "metadata": {}
   },
   "outputs": [],
   "source": [
    "# Construir la ruta completa al archivo\n",
    "ruta_items = r'C:\\PROYECTO-INDIVIDUAL\\Data\\json\\sucio\\australian_users_items.json'\n",
    "\n",
    "# Abrimos el archivo y cargamos todas las lineas del mismo en \"lineas\"\n",
    "with open(ruta_items, 'r', encoding='utf-8') as archivo:\n",
    "    lineas = archivo.readlines()\n",
    "\n",
    "# Leemos cada linea dentro de lineas, y realizamos la correcciones pertinentes\n",
    "texto = []\n",
    "for linea in lineas:\n",
    "    texto_de_linea = linea.replace(\"'\", '\"').replace('\"', '').replace('user_id: ',  '\"user_id\": \"').replace(', items_count: ',  '\", \"items_count\": \"').replace(', steam_id:',  '\", \"steam_id\": \"').replace(', user_url:',  '\", \"user_url\": \"').replace(', items:',  '\", \"items\": ').replace('item_id:',  '\"item_id\": \"').replace(', item_name:',  '\", \"item_name\": \"').replace(', playtime_forever:',  '\", \"playtime_forever\": \"').replace(', playtime_2weeks:',  '\", \"playtime_2weeks\": \"').replace('},', '\"},').replace('}]', '\"}]').replace(\"\\\\\", \"\")\n",
    "    texto.append(texto_de_linea)\n",
    "\n",
    "# Abrimos el archivo en formato escritura, cargamos todo el texto, y guardamos en una nueva ruta\n",
    "ruta_nueva_items = r'C:\\PROYECTO-INDIVIDUAL\\Data\\json\\limpio\\items.json'\n",
    "archivo = open(ruta_nueva_items, \"w\", encoding='utf-8')\n",
    "archivo.write('[' + '\\n')\n",
    "for i in range(len(texto)-1):\n",
    "    archivo.write(texto[i] + ',')\n",
    "archivo.write(texto[len(texto)-1])\n",
    "archivo.write(']' + '\\n')\n",
    "archivo.close()"
   ]
  },
  {
   "cell_type": "markdown",
   "metadata": {},
   "source": [
    "CREAMOS UN DATAFRAME CON ESE ARCHIVO"
   ]
  },
  {
   "cell_type": "code",
   "execution_count": 3,
   "metadata": {
    "metadata": {}
   },
   "outputs": [],
   "source": [
    "df_items = pd.read_json(ruta_nueva_items, encoding='utf-8')"
   ]
  },
  {
   "cell_type": "markdown",
   "metadata": {},
   "source": [
    "REALIZAMOS UNA VISUALIZACION DE LOS DATOS, FILAS Y COLUMNAS\n",
    "\n",
    "Con el fin de saber que columnas nos pueden servir de acuerdo a las actividades a realizar"
   ]
  },
  {
   "cell_type": "code",
   "execution_count": 4,
   "metadata": {
    "metadata": {}
   },
   "outputs": [
    {
     "name": "stdout",
     "output_type": "stream",
     "text": [
      "(88310, 5)\n",
      "Index(['user_id', 'items_count', 'steam_id', 'user_url', 'items'], dtype='object')\n"
     ]
    }
   ],
   "source": [
    "print(df_items.shape)\n",
    "print(df_items.columns)"
   ]
  },
  {
   "cell_type": "markdown",
   "metadata": {},
   "source": [
    "AHORA ELIMINAREMOS COLUMNAS, VALORES NA, Y MODIFICAREMOS DATOS"
   ]
  },
  {
   "cell_type": "code",
   "execution_count": 5,
   "metadata": {
    "metadata": {}
   },
   "outputs": [],
   "source": [
    "# Dropeamos la columna 'user_url'\n",
    "df_items.drop(inplace=True, columns=['user_url'])\n",
    "\n",
    "# Separamos la columna items\n",
    "df_items = df_items.explode(column='items')\n",
    "\n",
    "# Creamos listas donde se guardara todos los datos de lo que sera el nuevo df\n",
    "lista_item_id = []\n",
    "lista_item_name = []\n",
    "lista_playtime_forever = []\n",
    "lista_playtime_2weeks = []\n",
    "for x in range(len(df_items['items'])):\n",
    "    item = df_items['items'].iloc[x]\n",
    "    if pd.notna(item):\n",
    "        diccionario = dict(item)\n",
    "        if 'item_name' in diccionario:\n",
    "            lista_item_name.append(diccionario['item_name'])\n",
    "        else:\n",
    "            lista_item_name.append('None')\n",
    "        if 'item_id' in diccionario:\n",
    "            lista_item_id.append(diccionario['item_id'])\n",
    "        else:\n",
    "            lista_item_id.append('None')\n",
    "        if 'playtime_forever' in diccionario:\n",
    "            lista_playtime_forever.append(diccionario['playtime_forever'])\n",
    "        else:\n",
    "            lista_playtime_forever.append('None')\n",
    "        if 'playtime_2weeks' in diccionario:\n",
    "            lista_playtime_2weeks.append(diccionario['playtime_2weeks'])\n",
    "        else:\n",
    "            lista_playtime_2weeks.append('None')\n",
    "    else:\n",
    "        lista_item_name.append('None')\n",
    "        lista_item_id.append('None')\n",
    "        lista_playtime_forever.append('None')\n",
    "        lista_playtime_2weeks.append('None')\n",
    "\n",
    "# Creamos las nuevas columnas con las listas hechas anteriormente\n",
    "df_items['item_id'] = lista_item_id\n",
    "df_items['item_name'] = lista_item_name\n",
    "df_items['playtime_forever'] = lista_playtime_forever\n",
    "df_items['playtime_2weeks'] = lista_playtime_2weeks\n",
    "\n",
    "df_items['user_id'] = df_items['user_id'].str.strip()\n",
    "df_items['item_id'] = df_items['item_id'].str.strip()\n",
    "\n",
    "# Dropeamos la columna items ya que no la necesitamos\n",
    "df_items.drop(columns=['items', 'playtime_2weeks', 'item_name', 'items_count', 'steam_id'], inplace=True)\n",
    "\n",
    "# Transformamos los valores 'None' por None en la columna item_id\n",
    "df_items.loc[df_items['item_id'].astype(str).str.contains('None'), 'item_id'] = None\n",
    "# Eliminamos los valores NA\n",
    "df_items.dropna(subset=['item_id'], inplace=True)\n",
    "# Transformamos a int la columna\n",
    "df_items['item_id'] = df_items['item_id'].astype(int)\n",
    "\n",
    "df_items['playtime_forever'] = df_items['playtime_forever'].str.strip()\n",
    "df_items.loc[df_items['playtime_forever'].astype(str).str.contains('None'), 'playtime_forever'] = None\n",
    "df_items.dropna(subset=['playtime_forever'], inplace=True)\n",
    "df_items['playtime_forever'] = df_items['playtime_forever'].astype(int)\n",
    "df_items = df_items[df_items['playtime_forever'] != 0]"
   ]
  },
  {
   "cell_type": "markdown",
   "metadata": {},
   "source": [
    "Vemos como quedo"
   ]
  },
  {
   "cell_type": "code",
   "execution_count": 6,
   "metadata": {
    "metadata": {}
   },
   "outputs": [
    {
     "data": {
      "text/html": [
       "<div>\n",
       "<style scoped>\n",
       "    .dataframe tbody tr th:only-of-type {\n",
       "        vertical-align: middle;\n",
       "    }\n",
       "\n",
       "    .dataframe tbody tr th {\n",
       "        vertical-align: top;\n",
       "    }\n",
       "\n",
       "    .dataframe thead th {\n",
       "        text-align: right;\n",
       "    }\n",
       "</style>\n",
       "<table border=\"1\" class=\"dataframe\">\n",
       "  <thead>\n",
       "    <tr style=\"text-align: right;\">\n",
       "      <th></th>\n",
       "      <th>user_id</th>\n",
       "      <th>item_id</th>\n",
       "      <th>playtime_forever</th>\n",
       "    </tr>\n",
       "  </thead>\n",
       "  <tbody>\n",
       "    <tr>\n",
       "      <th>0</th>\n",
       "      <td>76561197970982479</td>\n",
       "      <td>10</td>\n",
       "      <td>6</td>\n",
       "    </tr>\n",
       "    <tr>\n",
       "      <th>0</th>\n",
       "      <td>76561197970982479</td>\n",
       "      <td>30</td>\n",
       "      <td>7</td>\n",
       "    </tr>\n",
       "    <tr>\n",
       "      <th>0</th>\n",
       "      <td>76561197970982479</td>\n",
       "      <td>300</td>\n",
       "      <td>4733</td>\n",
       "    </tr>\n",
       "    <tr>\n",
       "      <th>0</th>\n",
       "      <td>76561197970982479</td>\n",
       "      <td>240</td>\n",
       "      <td>1853</td>\n",
       "    </tr>\n",
       "    <tr>\n",
       "      <th>0</th>\n",
       "      <td>76561197970982479</td>\n",
       "      <td>3830</td>\n",
       "      <td>333</td>\n",
       "    </tr>\n",
       "  </tbody>\n",
       "</table>\n",
       "</div>"
      ],
      "text/plain": [
       "             user_id  item_id  playtime_forever\n",
       "0  76561197970982479       10                 6\n",
       "0  76561197970982479       30                 7\n",
       "0  76561197970982479      300              4733\n",
       "0  76561197970982479      240              1853\n",
       "0  76561197970982479     3830               333"
      ]
     },
     "execution_count": 6,
     "metadata": {},
     "output_type": "execute_result"
    }
   ],
   "source": [
    "df_items.head()"
   ]
  },
  {
   "cell_type": "code",
   "execution_count": 7,
   "metadata": {
    "metadata": {}
   },
   "outputs": [
    {
     "data": {
      "text/html": [
       "<div>\n",
       "<style scoped>\n",
       "    .dataframe tbody tr th:only-of-type {\n",
       "        vertical-align: middle;\n",
       "    }\n",
       "\n",
       "    .dataframe tbody tr th {\n",
       "        vertical-align: top;\n",
       "    }\n",
       "\n",
       "    .dataframe thead th {\n",
       "        text-align: right;\n",
       "    }\n",
       "</style>\n",
       "<table border=\"1\" class=\"dataframe\">\n",
       "  <thead>\n",
       "    <tr style=\"text-align: right;\">\n",
       "      <th></th>\n",
       "      <th>user_id</th>\n",
       "      <th>item_id</th>\n",
       "      <th>playtime_forever</th>\n",
       "    </tr>\n",
       "  </thead>\n",
       "  <tbody>\n",
       "    <tr>\n",
       "      <th>0</th>\n",
       "      <td>76561197970982479</td>\n",
       "      <td>10</td>\n",
       "      <td>6</td>\n",
       "    </tr>\n",
       "    <tr>\n",
       "      <th>0</th>\n",
       "      <td>76561197970982479</td>\n",
       "      <td>30</td>\n",
       "      <td>7</td>\n",
       "    </tr>\n",
       "    <tr>\n",
       "      <th>0</th>\n",
       "      <td>76561197970982479</td>\n",
       "      <td>300</td>\n",
       "      <td>4733</td>\n",
       "    </tr>\n",
       "    <tr>\n",
       "      <th>0</th>\n",
       "      <td>76561197970982479</td>\n",
       "      <td>240</td>\n",
       "      <td>1853</td>\n",
       "    </tr>\n",
       "    <tr>\n",
       "      <th>0</th>\n",
       "      <td>76561197970982479</td>\n",
       "      <td>3830</td>\n",
       "      <td>333</td>\n",
       "    </tr>\n",
       "    <tr>\n",
       "      <th>...</th>\n",
       "      <td>...</td>\n",
       "      <td>...</td>\n",
       "      <td>...</td>\n",
       "    </tr>\n",
       "    <tr>\n",
       "      <th>88308</th>\n",
       "      <td>76561198329548331</td>\n",
       "      <td>304930</td>\n",
       "      <td>677</td>\n",
       "    </tr>\n",
       "    <tr>\n",
       "      <th>88308</th>\n",
       "      <td>76561198329548331</td>\n",
       "      <td>227940</td>\n",
       "      <td>43</td>\n",
       "    </tr>\n",
       "    <tr>\n",
       "      <th>88308</th>\n",
       "      <td>76561198329548331</td>\n",
       "      <td>388490</td>\n",
       "      <td>3</td>\n",
       "    </tr>\n",
       "    <tr>\n",
       "      <th>88308</th>\n",
       "      <td>76561198329548331</td>\n",
       "      <td>521570</td>\n",
       "      <td>4</td>\n",
       "    </tr>\n",
       "    <tr>\n",
       "      <th>88308</th>\n",
       "      <td>76561198329548331</td>\n",
       "      <td>519140</td>\n",
       "      <td>3</td>\n",
       "    </tr>\n",
       "  </tbody>\n",
       "</table>\n",
       "<p>3285246 rows × 3 columns</p>\n",
       "</div>"
      ],
      "text/plain": [
       "                 user_id  item_id  playtime_forever\n",
       "0      76561197970982479       10                 6\n",
       "0      76561197970982479       30                 7\n",
       "0      76561197970982479      300              4733\n",
       "0      76561197970982479      240              1853\n",
       "0      76561197970982479     3830               333\n",
       "...                  ...      ...               ...\n",
       "88308  76561198329548331   304930               677\n",
       "88308  76561198329548331   227940                43\n",
       "88308  76561198329548331   388490                 3\n",
       "88308  76561198329548331   521570                 4\n",
       "88308  76561198329548331   519140                 3\n",
       "\n",
       "[3285246 rows x 3 columns]"
      ]
     },
     "execution_count": 7,
     "metadata": {},
     "output_type": "execute_result"
    }
   ],
   "source": [
    "df_items"
   ]
  },
  {
   "cell_type": "markdown",
   "metadata": {},
   "source": [
    "GUARDAMOS LOS DATAFRAMES\n",
    "\n",
    "Para ello creamos una carpeta llamada parquet dentro de datos, y guardamos los archivos dentro de ella"
   ]
  },
  {
   "cell_type": "code",
   "execution_count": 8,
   "metadata": {
    "metadata": {}
   },
   "outputs": [],
   "source": [
    "ruta_de_guardado = r'C:\\PROYECTO-INDIVIDUAL\\Data\\parquet\\items.parquet'\n",
    "df_items.to_parquet(ruta_de_guardado, index=False)"
   ]
  }
 ],
 "metadata": {
  "kernelspec": {
   "display_name": "TPI",
   "language": "python",
   "name": "python3"
  },
  "language_info": {
   "codemirror_mode": {
    "name": "ipython",
    "version": 3
   },
   "file_extension": ".py",
   "mimetype": "text/x-python",
   "name": "python",
   "nbconvert_exporter": "python",
   "pygments_lexer": "ipython3",
   "version": "3.10.0"
  }
 },
 "nbformat": 4,
 "nbformat_minor": 2
}
